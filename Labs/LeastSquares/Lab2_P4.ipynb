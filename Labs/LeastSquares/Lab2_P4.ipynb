{
 "cells": [
  {
   "cell_type": "markdown",
   "metadata": {
    "id": "-vKeZj4I2C69"
   },
   "source": [
    "# Lab exercise 2: Regression, Least squares, QR"
   ]
  },
  {
   "cell_type": "markdown",
   "metadata": {
    "id": "QQvgd4Bl2C7B"
   },
   "source": [
    "## Part 4: QR factorization and application to least squares problem\n"
   ]
  },
  {
   "cell_type": "markdown",
   "metadata": {
    "id": "RdmObQnn2C7B"
   },
   "source": [
    "This part of the lab introduces the QR factorization in Python, and its application for solving the least squares problem.\n"
   ]
  },
  {
   "cell_type": "markdown",
   "metadata": {
    "id": "nnOcXLl22C7B"
   },
   "source": [
    "### QR factorization"
   ]
  },
  {
   "cell_type": "markdown",
   "metadata": {
    "id": "PNaxLFOE2C7C"
   },
   "source": [
    "Every matrix $A\\in \\mathbb R^{m\\times n}$ with $m\\geqslant n$ (overdetermined) can be factorized as\n",
    "$$\n",
    "A = QR\n",
    "$$\n",
    "where $Q$ is a $m\\times m$ **orthogonal** matrix and $R$ is a $m\\times n$ **upper triangular** matrix.\n",
    "\n",
    "$$\n",
    "\\begin{array}{cccc}\n",
    "\\begin{pmatrix}\n",
    "  \\times & \\times & \\times  \\\\\n",
    "  \\times & \\times & \\times  \\\\\n",
    "  \\times & \\times & \\times  \\\\\n",
    "  \\times & \\times & \\times  \\\\\n",
    "  \\times & \\times & \\times\n",
    "\\end{pmatrix}&=&\n",
    "\\begin{pmatrix}\n",
    "  \\times & \\times & \\times & \\times & \\times \\\\\n",
    "  \\times & \\times & \\times & \\times & \\times \\\\\n",
    "  \\times & \\times & \\times & \\times & \\times \\\\\n",
    "  \\times & \\times & \\times & \\times & \\times \\\\\n",
    "  \\times & \\times & \\times & \\times & \\times\n",
    "\\end{pmatrix}&\n",
    "\\begin{pmatrix}\n",
    "\\times & \\times  & \\times\\\\\n",
    " 0 & \\times  & \\times\\\\\n",
    " 0 &  0  & \\times \\\\ \\hline\n",
    " 0 & 0 & 0\\\\\n",
    "  0 & 0 & 0\n",
    "\\end{pmatrix}\n",
    "\\\\ \\\\\n",
    "A&& Q&R\n",
    "\\end{array}\n",
    "$$"
   ]
  },
  {
   "cell_type": "markdown",
   "metadata": {
    "id": "u1bi2qLZ2C7C"
   },
   "source": [
    "As we can see $m-n$ last rows of $R$ are zero, which will eliminate the last $m-n$ columns of $Q$ in the multiplication, which enables us to write the thin (or reduced) QR factorization\n",
    "$$\n",
    "A = Q_1 R_1\n",
    "$$\n",
    "where $Q = [Q_1\\;Q_2]$ and $R = \\begin{bmatrix} R_1\\\\ 0 \\end{bmatrix}$. Here $Q_1$ consists of the first $n$ columns of $Q$."
   ]
  },
  {
   "cell_type": "markdown",
   "metadata": {
    "id": "6Ew1g2m72C7C"
   },
   "source": [
    "In numpy, the command `Q, R = np.linalg.qr(A, mode = 'complete')` computes the complete QR factorization of the matrix $A$. As an example, in the cell below compute and print the Q and R factors of the following matrix:\n",
    "$$\n",
    "A = \\begin{bmatrix}\n",
    "1&-1&1\\\\\n",
    "1&1&1\\\\\n",
    "1&2&4\\\\\n",
    "1&3&9\\\\\n",
    "1&4&16\n",
    "\\end{bmatrix}\n",
    "$$\n",
    "This is the coefficient matrix of a quadratic polynomial fitting on points $-1,1,2,3,4$."
   ]
  },
  {
   "cell_type": "code",
   "execution_count": 1,
   "metadata": {
    "id": "VObMm9aD2C7D"
   },
   "outputs": [],
   "source": [
    "import numpy as np\n",
    "\n",
    "A = np.matrix([[1, -1, 1], [1, 1, 1], [1, 2, 4], [1, 3, 9], [1, 4, 16]])\n",
    "\n",
    "Q, R = np.linalg.qr(A, mode = 'complete')"
   ]
  },
  {
   "cell_type": "markdown",
   "metadata": {
    "id": "iv-iONP-2C7E"
   },
   "source": [
    "Changing the `mode` to `mode = 'reduced'` gives the reduced QR factorization. Compute and print the reduced QR factorization of the above matrix in the cell below:"
   ]
  },
  {
   "cell_type": "code",
   "execution_count": 2,
   "metadata": {
    "id": "Hr-Al6zH2C7E"
   },
   "outputs": [],
   "source": [
    "Q, R = np.linalg.qr(A, mode = 'reduced')"
   ]
  },
  {
   "cell_type": "markdown",
   "metadata": {
    "id": "5LIRUP922C7F"
   },
   "source": [
    "### Computing $Q$ and $R$ using Householder reflections"
   ]
  },
  {
   "cell_type": "markdown",
   "metadata": {
    "id": "tbYcGqm02C7F"
   },
   "source": [
    "Given a non-zero vector $u$ in $\\mathbb R^n$, a matrix of the form\n",
    "\\begin{equation*}\n",
    "  H = I -\\frac{2}{u^Tu}uu^T\n",
    "\\end{equation*}\n",
    "is called a **Householder matrix** or a **Householder reflection**.\n",
    "\n",
    "Matrix $H$ is orthogonal and can be used to iteratively introduce zeros under the diagonals of matrix $A$ ultimately leading to the QR factorization of $A$. Let's illustrate this process with an example:\n",
    "\n",
    "Consider the matrix $A$ above and let $x$ be its first column, i.e.\n",
    "$$\n",
    "x = \\begin{bmatrix}\n",
    "1\\\\ 1\\\\ 1\\\\ 1\\\\ 1\n",
    "\\end{bmatrix}\n",
    "$$\n",
    "Now set $u = x + \\mathrm{sign}(x_1)\\|x\\|_2 e_1$ where $e_1 = [1,0,0,0,0]^T$, and then compute the Householder matrix $H_1 = I-(2/u^Tu)uu^T$.\n",
    "The code is given below:"
   ]
  },
  {
   "cell_type": "code",
   "execution_count": 3,
   "metadata": {
    "id": "L4AwzP1j2C7F"
   },
   "outputs": [],
   "source": [
    "import numpy as np\n",
    "\n",
    "def HouseVec(x):\n",
    "  e = np.zeros(len(x)); e[0] = 1\n",
    "  s = -1 if x[0] < 0  else 1      # our sign function (it is different from np.sign(a) as np.sign(0) = 0)\n",
    "  u = x + s*np.linalg.norm(x,2)*e\n",
    "  return u\n",
    "\n",
    "A = np.array([[1,-1,1],[1,1,1],[1,2,4],[1,3,9],[1,4,16]])\n",
    "x = A[:,0] # first column\n",
    "n = len(x)\n",
    "u = HouseVec(x)\n",
    "H1 = np.eye(n) - 2/np.dot(u,u) * np.outer(u,u)"
   ]
  },
  {
   "cell_type": "markdown",
   "metadata": {
    "id": "GIK2xUOD2C7F"
   },
   "source": [
    "Multiply $H_1$ by $A$ to get $A_1$: (for matrix-matrix or matrix-vector multiplication you can use `@` operator or `np.matmul()`, or `np.dot()` commands. Avoid using `*` operator.)"
   ]
  },
  {
   "cell_type": "code",
   "execution_count": 4,
   "metadata": {
    "id": "-Hv1OGDd2C7F"
   },
   "outputs": [
    {
     "name": "stdout",
     "output_type": "stream",
     "text": [
      "A1:\n",
      "[[-2.23606798e+00 -4.02492236e+00 -1.38636215e+01]\n",
      " [ 5.55111512e-17  6.52475842e-02 -3.59311163e+00]\n",
      " [ 5.55111512e-17  1.06524758e+00 -5.93111629e-01]\n",
      " [ 2.77555756e-17  2.06524758e+00  4.40688837e+00]\n",
      " [ 0.00000000e+00  3.06524758e+00  1.14068884e+01]]\n"
     ]
    }
   ],
   "source": [
    "A1 = H1 @ A\n",
    "\n",
    "print(\"A1:\")\n",
    "print(A1)"
   ]
  },
  {
   "cell_type": "markdown",
   "metadata": {
    "id": "zcAX7GbW2C7F"
   },
   "source": [
    "What does $A_1$ look like? For the second step, let's assume that $x$ is a $4\\times 1$ vector located below the diagonal in the second column of $A_1$, including the diagonal elements. Now, proceed with the same procedure to compute the Householder matrix $\\widetilde{H}_2$. Finally, construct the matrix $H_2$ as follows:\n",
    "$$\n",
    "H_2 = \\begin{bmatrix}\n",
    "1& 0 \\\\ 0 & \\widetilde H_2\n",
    "\\end{bmatrix}.\n",
    "$$\n",
    "The code is given below:"
   ]
  },
  {
   "cell_type": "code",
   "execution_count": 7,
   "metadata": {
    "id": "V56hAg532C7F"
   },
   "outputs": [],
   "source": [
    "x = A1[1:,1]  # second column diagonal and under diagonal\n",
    "u = HouseVec(x)\n",
    "Ht = np.eye(n-1) - 2/np.dot(u,u) * np.outer(u,u)\n",
    "H2 = np.block([[np.ones(1), np.zeros([1,n-1])],[np.zeros([n-1,1]), Ht]])"
   ]
  },
  {
   "cell_type": "markdown",
   "metadata": {
    "id": "U5uScEjm_QX0"
   },
   "source": [
    "Note that `np.block` is used to form a block matrix. It works similar to `np.array` by replacing matrices instead of individual numbers.\n",
    "\n",
    "Now compute and print the new matrix $A_2 = H_2A_1$ in the cell below. What do you observe?"
   ]
  },
  {
   "cell_type": "code",
   "execution_count": 8,
   "metadata": {
    "id": "kqXTx_z6_UBb"
   },
   "outputs": [
    {
     "name": "stdout",
     "output_type": "stream",
     "text": [
      "A2:\n",
      "[[-2.23606798e+00 -4.02492236e+00 -1.38636215e+01]\n",
      " [-3.12125881e-17 -3.84707681e+00 -1.12293053e+01]\n",
      " [ 3.18980138e-17  3.96866716e-18 -2.67229424e+00]\n",
      " [-1.80243687e-17  2.32646502e-16  3.75875369e-01]\n",
      " [-6.79467512e-17  1.46958084e-16  5.42404498e+00]]\n"
     ]
    }
   ],
   "source": [
    "# Calculate A2 = H2 * A1\n",
    "A2 = H2 @ A1\n",
    "\n",
    "print(\"A2:\")\n",
    "print(A2)"
   ]
  },
  {
   "cell_type": "markdown",
   "metadata": {
    "id": "AwJMTLV22C7F"
   },
   "source": [
    "Continue with this process to the third step and calculate matrix $A_3$ as the product of $H_3$ and $A_2$. It's important to note that this resulting matrix should be upper triangular, representing the $R$ factor in the QR factorization. The $Q$ factor is obtained as the product of $H_1$, $H_2$, and $H_3$. Finalize your code and compute both factors accordingly:"
   ]
  },
  {
   "cell_type": "code",
   "execution_count": 9,
   "metadata": {
    "id": "AamJY_Xe2C7F"
   },
   "outputs": [
    {
     "name": "stdout",
     "output_type": "stream",
     "text": [
      "A3:\n",
      "[[-2.23606798e+00 -4.02492236e+00 -1.38636215e+01]\n",
      " [-3.12125881e-17 -3.84707681e+00 -1.12293053e+01]\n",
      " [-7.60219678e-17  1.44256875e-16  6.05827556e+00]\n",
      " [-1.33781126e-17  2.26606704e-16  5.72977721e-17]\n",
      " [-8.99256276e-19  5.98011667e-17  6.03016201e-16]]\n"
     ]
    }
   ],
   "source": [
    "# Extract the third column of A2\n",
    "x3 = A2[2:, 2]\n",
    "\n",
    "# Define e3\n",
    "e3 = np.zeros_like(x3)\n",
    "e3[0] = 1\n",
    "\n",
    "# Calculate u3\n",
    "sign_x3 = np.sign(x3[0])\n",
    "u3 = x3 + sign_x3 * np.linalg.norm(x3) * e3\n",
    "\n",
    "# Normalize u3\n",
    "u3_normalized = u3 / np.linalg.norm(u3)\n",
    "\n",
    "# Calculate Householder matrix H3_tilde\n",
    "H3_tilde = np.eye(len(x3)) - 2 * np.outer(u3_normalized, u3_normalized)\n",
    "\n",
    "# Construct H3\n",
    "H3 = np.eye(len(A2))\n",
    "H3[2:, 2:] = H3_tilde\n",
    "\n",
    "# Calculate A3 = H3 * A2\n",
    "A3 = H3 @ A2\n",
    "\n",
    "print(\"A3:\")\n",
    "print(A3)\n",
    "\n",
    "# Compute Q by multiplying H1, H2, and H3\n",
    "Q = H3 @ H2 @ H1\n",
    "\n",
    "# Compute R\n",
    "R = A3\n"
   ]
  },
  {
   "cell_type": "markdown",
   "metadata": {
    "id": "p3bLH-3W2C7G"
   },
   "source": [
    "Compare your computed factors $Q$ and $R$ with those of the `np.linalg.qr` command:"
   ]
  },
  {
   "cell_type": "code",
   "execution_count": 10,
   "metadata": {
    "id": "Sy9VrUsq2C7G"
   },
   "outputs": [
    {
     "name": "stdout",
     "output_type": "stream",
     "text": [
      "Computed Q:\n",
      "[[-0.4472136   0.72782534  0.49072924  0.14646213  0.08946465]\n",
      " [-0.4472136   0.2079501  -0.47288454 -0.47660981 -0.55315464]\n",
      " [-0.4472136  -0.05198752 -0.45950102 -0.03479192  0.76481739]\n",
      " [-0.4472136  -0.31192515 -0.11599055  0.76710259 -0.31749411]\n",
      " [-0.4472136  -0.57186277  0.55764687 -0.402163    0.01636672]]\n",
      "\n",
      "Computed R:\n",
      "[[ -2.23606798  -4.02492236 -13.86362146]\n",
      " [  0.          -3.84707681 -11.22930529]\n",
      " [  0.           0.           6.05827556]\n",
      " [  0.           0.           0.        ]\n",
      " [  0.           0.           0.        ]]\n",
      "\n",
      "Q from np.linalg.qr:\n",
      "[[-0.4472136   0.72782534  0.49072924  0.14646213  0.08946465]\n",
      " [-0.4472136   0.2079501  -0.47288454 -0.47660981 -0.55315464]\n",
      " [-0.4472136  -0.05198752 -0.45950102 -0.03479192  0.76481739]\n",
      " [-0.4472136  -0.31192515 -0.11599055  0.76710259 -0.31749411]\n",
      " [-0.4472136  -0.57186277  0.55764687 -0.402163    0.01636672]]\n",
      "\n",
      "R from np.linalg.qr:\n",
      "[[ -2.23606798  -4.02492236 -13.86362146]\n",
      " [  0.          -3.84707681 -11.22930529]\n",
      " [  0.           0.           6.05827556]\n",
      " [  0.           0.           0.        ]\n",
      " [  0.           0.           0.        ]]\n"
     ]
    }
   ],
   "source": [
    "# Calculate QR decomposition using np.linalg.qr\n",
    "Q_np, R_np = Q, R = np.linalg.qr(A, mode = 'complete')\n",
    "\n",
    "# Compare computed Q and R with np.linalg.qr\n",
    "print(\"Computed Q:\")\n",
    "print(Q)\n",
    "print(\"\\nComputed R:\")\n",
    "print(R)\n",
    "print(\"\\nQ from np.linalg.qr:\")\n",
    "print(Q_np)\n",
    "print(\"\\nR from np.linalg.qr:\")\n",
    "print(R_np)"
   ]
  },
  {
   "cell_type": "markdown",
   "metadata": {
    "id": "T2c5S-_m2C7G"
   },
   "source": [
    "### Application to solve the least squares problem"
   ]
  },
  {
   "cell_type": "markdown",
   "metadata": {
    "id": "BY4L1xu92C7G"
   },
   "source": [
    "For a full-rank matrix $A$, the solution of the least square problem\n",
    "$$\n",
    "\\mbox{find}~~ x\\in\\mathbb R^n ~~\\mbox{such that }~~ \\|Ax-b\\|_2 ~~\\mbox{is mimimized}\n",
    "$$\n",
    "is obtained by solving the triangular system\n",
    "$$R_1x = Q_1^Tb$$\n",
    "using a backward substitution, and the residual is\n",
    "$$residual = \\|Ax-b\\|_2=\\|Q_2^Tb\\|_2.$$\n",
    "Assume that $A$ and $b$ are given as\n",
    "$$\n",
    "A = \\begin{bmatrix}\n",
    "1&-1&1\\\\\n",
    "1&1&1\\\\\n",
    "1&2&4\\\\\n",
    "1&3&9\\\\\n",
    "1&4&16\n",
    "\\end{bmatrix}\n",
    ",\\qquad\n",
    "b = \\begin{bmatrix}\n",
    "1\\\\ 2\\\\ 1\\\\ 2\\\\ 3\n",
    "\\end{bmatrix}.\n",
    "$$\n",
    "Write a code to compute the least square solution of $Ax\\approx b$ using the QR factorization and compute the residual:"
   ]
  },
  {
   "cell_type": "code",
   "execution_count": 16,
   "metadata": {
    "id": "LbskyLxX2C7G"
   },
   "outputs": [
    {
     "name": "stdout",
     "output_type": "stream",
     "text": [
      "Least squares solution x:\n",
      "[1.13402062 0.07069219 0.08689249]\n",
      "\n",
      "Residual: 0.9829174211744881\n"
     ]
    }
   ],
   "source": [
    "import numpy as np\n",
    "\n",
    "# Compute Q1^Tb\n",
    "b = np.transpose([[1,2,1,2,3]])\n",
    "Q1T_b = np.dot(Q.T, b)[:R.shape[1]]  # Q1^Tb = Q^Tb, considering only the relevant rows\n",
    "\n",
    "# Extract the square part of R\n",
    "R_square = R[:R.shape[1], :R.shape[1]]\n",
    "\n",
    "# Solve the triangular system R1x = Q1^Tb using backward substitution\n",
    "x = np.linalg.solve(R_square, Q1T_b)\n",
    "\n",
    "# Compute the residual: residual = ||Ax - b||_2 = ||Q2^Tb||_2\n",
    "residual = np.linalg.norm(np.dot(Q[:, R.shape[1]:].T, b))\n",
    "\n",
    "print(\"Least squares solution x:\")\n",
    "print(x)\n",
    "print(\"\\nResidual:\", residual)\n"
   ]
  }
 ],
 "metadata": {
  "colab": {
   "provenance": []
  },
  "kernelspec": {
   "display_name": "Python 3",
   "language": "python",
   "name": "python3"
  },
  "language_info": {
   "codemirror_mode": {
    "name": "ipython",
    "version": 3
   },
   "file_extension": ".py",
   "mimetype": "text/x-python",
   "name": "python",
   "nbconvert_exporter": "python",
   "pygments_lexer": "ipython3",
   "version": "3.8.5"
  }
 },
 "nbformat": 4,
 "nbformat_minor": 1
}
