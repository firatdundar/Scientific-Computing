{
 "cells": [
  {
   "cell_type": "markdown",
   "metadata": {},
   "source": [
    "# Lab exercise 2: Regression, Least squares, QR "
   ]
  },
  {
   "cell_type": "markdown",
   "metadata": {},
   "source": [
    "## Part 1: Dealing with polynomials in Python"
   ]
  },
  {
   "cell_type": "markdown",
   "metadata": {},
   "source": [
    "_**Curve fitting**, i.e. fitting mathematical functions to observed data, is common in many application areas ranging from medicine to digital images. In this part of the lab, you will learn how **polynomials** are represented in Python and get familiar with some basic **polynomial operations**. Then, in the next part of the lab, you will work with a real application where curve fitting is\n",
    "used._"
   ]
  },
  {
   "cell_type": "markdown",
   "metadata": {},
   "source": [
    "### Polynomial Representations"
   ]
  },
  {
   "cell_type": "markdown",
   "metadata": {},
   "source": [
    "The basic problem in **polynomial curve fitting** is that there exists a (often very big) dataset\n",
    "originating from a measurement of some kind, and you would like to describe that dataset as a mathematical function. For example, it might be interesting to see if there is an underlying trend\n",
    "in the data, or to estimate values in-between the observed data points. Since polynomial curve fitting is based on polynomials, you first need to know how\n",
    "to work with polynomials in general. In this lab, we will use **NumPy** to deal with polynomials in Python. Using NumPy, polynomials can be created, manipulated and fitted using the `numpy.polynomial` package. "
   ]
  },
  {
   "cell_type": "markdown",
   "metadata": {},
   "source": [
    "_1.1 a) Using the numpy.polynomial package, we can create a polynomial object directly from coefficients. Import the numpy.polynomial package by running the cell below. We will also import numpy and matplotlib.pyplot for later use._"
   ]
  },
  {
   "cell_type": "code",
   "execution_count": 2,
   "metadata": {},
   "outputs": [],
   "source": [
    "from numpy.polynomial import Polynomial\n",
    "import numpy as np\n",
    "import matplotlib.pyplot as plt"
   ]
  },
  {
   "cell_type": "markdown",
   "metadata": {},
   "source": [
    "_1.1 b) In the following cell you will find a code snippet defining three different polynomials by its coefficients. Which are the polynomials that are represented in **$p_A$**, **$p_B$** and **$p_C$**?_ \n",
    "\n",
    "Hint: You can view a mathematical expression of a polynomial defined by its coefficients by printing or executing the polynomial object.\n"
   ]
  },
  {
   "cell_type": "code",
   "execution_count": 3,
   "metadata": {},
   "outputs": [],
   "source": [
    "pA = Polynomial([1,2,3])\n",
    "pB = Polynomial([5,4,1])\n",
    "pC = Polynomial([1, 1])"
   ]
  },
  {
   "cell_type": "code",
   "execution_count": 5,
   "metadata": {},
   "outputs": [
    {
     "data": {
      "text/plain": [
       "(Polynomial([1., 2., 3.], domain=[-1,  1], window=[-1,  1], symbol='x'),\n",
       " Polynomial([5., 4., 1.], domain=[-1,  1], window=[-1,  1], symbol='x'),\n",
       " Polynomial([1., 1.], domain=[-1,  1], window=[-1,  1], symbol='x'))"
      ]
     },
     "execution_count": 5,
     "metadata": {},
     "output_type": "execute_result"
    }
   ],
   "source": [
    "pA, pB, pC"
   ]
  },
  {
   "cell_type": "markdown",
   "metadata": {},
   "source": [
    "_1.2) Make sure you understand how to represent a polynomial by its coefficients. In the remainder of this lab, we will use two particular polynomials, namely: $p_1 = 2x^3 + 3x^2 - 1$ and $p_2 = 3x^2 + x - 2$.  Define two polynomial objects representing these polynomials in the cell below. Print the polynomial to verify that your implementation is correct._ "
   ]
  },
  {
   "cell_type": "code",
   "execution_count": 10,
   "metadata": {},
   "outputs": [],
   "source": [
    "p1 = Polynomial([-1,0,3,2])\n",
    "p2 = Polynomial([-2,1,3])"
   ]
  },
  {
   "cell_type": "code",
   "execution_count": 11,
   "metadata": {},
   "outputs": [
    {
     "name": "stdout",
     "output_type": "stream",
     "text": [
      "-1.0 + 0.0·x + 3.0·x² + 2.0·x³\n"
     ]
    }
   ],
   "source": [
    "print(p1)"
   ]
  },
  {
   "cell_type": "code",
   "execution_count": 9,
   "metadata": {},
   "outputs": [
    {
     "name": "stdout",
     "output_type": "stream",
     "text": [
      "-2.0 + 1.0·x + 3.0·x²\n"
     ]
    }
   ],
   "source": [
    "print(p2)"
   ]
  },
  {
   "cell_type": "markdown",
   "metadata": {},
   "source": [
    "When you define a polynomial in this way, there are a number of functions available that can be applied to the polynomial, for example to perform algebraic and arithmetic operations as well as integration and differentiation. Use the documentation (_see https://numpy.org/doc/stable/reference/routines.polynomials.classes.html)_ to see how what commands are available and how to use them. We will take a closer look at a few of them now.\n",
    "\n",
    "_1.3) a) By calling `r = p.roots()` we can find the **roots** of the polynomial $p$ and store them in a new variable **r**. Compute the roots to your polynomials ($p_1$ and $p_2$). Store the roots in\n",
    "appropriate variables, for example $r_1$ and $r_2$, respectively. What are the roots?_\n",
    "\n",
    "_b) Compute the roots of the polynomial $q = x^3 - x^2 +x - 1$. What are they?_"
   ]
  },
  {
   "cell_type": "code",
   "execution_count": 17,
   "metadata": {},
   "outputs": [],
   "source": [
    "r1 = p1.roots()\n",
    "r2 = p2.roots()"
   ]
  },
  {
   "cell_type": "code",
   "execution_count": 18,
   "metadata": {},
   "outputs": [
    {
     "data": {
      "text/plain": [
       "(array([-1.00000002, -0.99999998,  0.5       ]),\n",
       " array([-1.        ,  0.66666667]))"
      ]
     },
     "execution_count": 18,
     "metadata": {},
     "output_type": "execute_result"
    }
   ],
   "source": [
    "r1, r2"
   ]
  },
  {
   "cell_type": "code",
   "execution_count": 19,
   "metadata": {},
   "outputs": [
    {
     "data": {
      "text/plain": [
       "array([2.49800181e-16-1.j, 2.49800181e-16+1.j, 1.00000000e+00+0.j])"
      ]
     },
     "execution_count": 19,
     "metadata": {},
     "output_type": "execute_result"
    }
   ],
   "source": [
    "q = Polynomial([-1,1,-1,1])\n",
    "q.roots()"
   ]
  },
  {
   "cell_type": "markdown",
   "metadata": {},
   "source": [
    "_1.4) By calling `p.deriv(1)` we can find the first derivative of the polynomial $p$. Calculate the derivative of your polynomials ($p_1$ and $p_2$), and store the results in\n",
    "appropriate variables, for example $derivative_1$ and $derivative_2$, respectively. Convince\n",
    "yourself that the derivatives are correct by comparing the results to the analytic solutions)._"
   ]
  },
  {
   "cell_type": "code",
   "execution_count": 20,
   "metadata": {},
   "outputs": [],
   "source": [
    "derivative1 = p1.deriv(1)\n",
    "derivative2 = p2.deriv(1)"
   ]
  },
  {
   "cell_type": "code",
   "execution_count": 23,
   "metadata": {},
   "outputs": [
    {
     "data": {
      "text/latex": [
       "$x \\mapsto \\color{LightGray}{\\text{0.0}} + \\text{6.0}\\,x + \\text{6.0}\\,x^{2}$"
      ],
      "text/plain": [
       "Polynomial([0., 6., 6.], domain=[-1.,  1.], window=[-1.,  1.], symbol='x')"
      ]
     },
     "execution_count": 23,
     "metadata": {},
     "output_type": "execute_result"
    }
   ],
   "source": [
    "derivative1"
   ]
  },
  {
   "cell_type": "code",
   "execution_count": 24,
   "metadata": {},
   "outputs": [
    {
     "data": {
      "text/latex": [
       "$x \\mapsto \\text{1.0} + \\text{6.0}\\,x$"
      ],
      "text/plain": [
       "Polynomial([1., 6.], domain=[-1.,  1.], window=[-1.,  1.], symbol='x')"
      ]
     },
     "execution_count": 24,
     "metadata": {},
     "output_type": "execute_result"
    }
   ],
   "source": [
    "derivative2"
   ]
  },
  {
   "cell_type": "markdown",
   "metadata": {},
   "source": [
    "_1.5) How do you calculate the 2nd derivative? Figure out how to do it, and then\n",
    "calculate the 2nd derivatives of the two polynomials._"
   ]
  },
  {
   "cell_type": "code",
   "execution_count": 25,
   "metadata": {},
   "outputs": [],
   "source": [
    "derivative1 = p1.deriv(2)\n",
    "derivative2 = p2.deriv(2)"
   ]
  },
  {
   "cell_type": "code",
   "execution_count": 26,
   "metadata": {},
   "outputs": [
    {
     "data": {
      "text/latex": [
       "$x \\mapsto \\text{6.0} + \\text{12.0}\\,x$"
      ],
      "text/plain": [
       "Polynomial([ 6., 12.], domain=[-1.,  1.], window=[-1.,  1.], symbol='x')"
      ]
     },
     "execution_count": 26,
     "metadata": {},
     "output_type": "execute_result"
    }
   ],
   "source": [
    "derivative1"
   ]
  },
  {
   "cell_type": "code",
   "execution_count": 27,
   "metadata": {},
   "outputs": [
    {
     "data": {
      "text/latex": [
       "$x \\mapsto \\text{6.0}$"
      ],
      "text/plain": [
       "Polynomial([6.], domain=[-1.,  1.], window=[-1.,  1.], symbol='x')"
      ]
     },
     "execution_count": 27,
     "metadata": {},
     "output_type": "execute_result"
    }
   ],
   "source": [
    "derivative2"
   ]
  },
  {
   "cell_type": "markdown",
   "metadata": {},
   "source": [
    "_1.6) Polynomials constructed in this way are very easy to evaluate in a certain point, or in a number of points at the same time. You can obtain the value of a polynomial `p` at a point `x` by simply calling `p(x)`. Evalute the polynomials $p_1$ and $p_2$ at the point $x=-2$_"
   ]
  },
  {
   "cell_type": "code",
   "execution_count": 28,
   "metadata": {},
   "outputs": [
    {
     "data": {
      "text/plain": [
       "(-5.0, 8.0)"
      ]
     },
     "execution_count": 28,
     "metadata": {},
     "output_type": "execute_result"
    }
   ],
   "source": [
    "p1(-2), p2(-2)"
   ]
  },
  {
   "cell_type": "markdown",
   "metadata": {},
   "source": [
    "_1.7) Repeat the previous task, but this time evalute the polynomial $p_1$ at the points $x = [-2, -1, 0, 1, 2]$ at the same time. Then, evaluate the polynomial $p_2$ at 10 points spread out evenly between the points -2 and 2._\n",
    "\n",
    "Hint: You can define a vector containing all the points at which you want to evaluate the polynomial in two different ways. You can define the array directly as in `x = np.array([-2.0, -1.0, 0.0, 1.0, 2.0])` OR `x = np.arange(-2, 3, 1)` (which creates a vector that starts at -2 and takes steps of 1 until it reaches 3) OR `np.linspace(-2.0, 2.0, N)` (which creates a vector containing $N$ points evenly spread out over the interval $[-2, 2]$). **Play around with all of the commands and print the results to understand how to use each of them.**"
   ]
  },
  {
   "cell_type": "code",
   "execution_count": 29,
   "metadata": {},
   "outputs": [],
   "source": [
    "x = np.array([-2.0, -1.0, 0.0, 1.0, 2.0])"
   ]
  },
  {
   "cell_type": "code",
   "execution_count": 31,
   "metadata": {},
   "outputs": [
    {
     "data": {
      "text/plain": [
       "(array([-5.,  0., -1.,  4., 27.]), array([ 8.,  0., -2.,  2., 12.]))"
      ]
     },
     "execution_count": 31,
     "metadata": {},
     "output_type": "execute_result"
    }
   ],
   "source": [
    "p1(x), p2(x)"
   ]
  },
  {
   "cell_type": "code",
   "execution_count": 33,
   "metadata": {},
   "outputs": [],
   "source": [
    "x = np.linspace(-2.0, 2.0, 10)"
   ]
  },
  {
   "cell_type": "code",
   "execution_count": 34,
   "metadata": {},
   "outputs": [
    {
     "data": {
      "text/plain": [
       "(array([-5.        , -1.26886145, -0.03978052, -0.25925926, -0.87379973,\n",
       "        -0.82990398,  0.92592593,  5.44718793, 13.78737997, 27.        ]),\n",
       " array([ 8.00000000e+00,  3.70370370e+00,  5.92592593e-01, -1.33333333e+00,\n",
       "        -2.07407407e+00, -1.62962963e+00, -6.66133815e-16,  2.81481481e+00,\n",
       "         6.81481481e+00,  1.20000000e+01]))"
      ]
     },
     "execution_count": 34,
     "metadata": {},
     "output_type": "execute_result"
    }
   ],
   "source": [
    "p1(x), p2(x)"
   ]
  },
  {
   "cell_type": "markdown",
   "metadata": {},
   "source": [
    "_1.8) Plot the polynomials $p_1$ and $p_2$ on the interval $[-2, 2]$. Do this by first constructing a vector `x` containing `N=10` points evenly spread out over the interval, and evaluate the polynomials in these points. Store the result in separate variables `y_1` and `y_2`. You can then plot the polynomial using the command `plt.plot(x,y)`. Finally, improve the plot by adding  a descriptive plot title and labels on each axis. You can do this using the commands `plt.title('your title')`, `plt.xlabel('your label')` and `plt.ylabel('your label')` with appropriate strings._\n",
    "\n",
    "Hint: You can create separate plots by separating the plot-commands with the command `plt.figure(i)`, where `i` denotes an index of the current figure. You can annotate the plot by adding the label-argument to the plot command, e.g. `plt.plot(x,y, label='p1')`, followed by the command `plt.legend()`. Have a look at the documentation (https://matplotlib.org/stable/api/_as_gen/matplotlib.pyplot.plot.html) for more suggestions on how to customize your plots. "
   ]
  },
  {
   "cell_type": "code",
   "execution_count": 35,
   "metadata": {},
   "outputs": [],
   "source": [
    "x = np.linspace(-2.0, 2.0, 10)\n",
    "y1 = p1(x)\n",
    "y2 = p2(x)"
   ]
  },
  {
   "cell_type": "code",
   "execution_count": 36,
   "metadata": {},
   "outputs": [
    {
     "data": {
      "text/plain": [
       "Text(0, 0.5, 'your label')"
      ]
     },
     "execution_count": 36,
     "metadata": {},
     "output_type": "execute_result"
    },
    {
     "data": {
      "image/png": "[encoded data removed]",
      "text/plain": [
       "<Figure size 432x288 with 1 Axes>"
      ]
     },
     "metadata": {
      "needs_background": "light"
     },
     "output_type": "display_data"
    }
   ],
   "source": [
    "plt.plot(x,y1)\n",
    "plt.title('your title')\n",
    "plt.xlabel('your label')\n",
    "plt.ylabel('your label')"
   ]
  },
  {
   "cell_type": "code",
   "execution_count": 37,
   "metadata": {},
   "outputs": [
    {
     "data": {
      "text/plain": [
       "Text(0, 0.5, 'your label')"
      ]
     },
     "execution_count": 37,
     "metadata": {},
     "output_type": "execute_result"
    },
    {
     "data": {
      "image/png": "[encoded data removed]",
      "text/plain": [
       "<Figure size 432x288 with 1 Axes>"
      ]
     },
     "metadata": {
      "needs_background": "light"
     },
     "output_type": "display_data"
    }
   ],
   "source": [
    "plt.plot(x,y2)\n",
    "plt.title('your title')\n",
    "plt.xlabel('your label')\n",
    "plt.ylabel('your label')"
   ]
  },
  {
   "cell_type": "markdown",
   "metadata": {},
   "source": [
    "_1.9) Inspect the plot you produced in task 1.8). You may notice that it looks a little ragged. Why? Plot the polynomials again, but this time using $N=200$ points. Is the result better?_"
   ]
  },
  {
   "cell_type": "code",
   "execution_count": 39,
   "metadata": {},
   "outputs": [],
   "source": [
    "x = np.linspace(-2.0, 2.0, 2000)\n",
    "y1 = p1(x)\n",
    "y2 = p2(x)"
   ]
  },
  {
   "cell_type": "code",
   "execution_count": 40,
   "metadata": {},
   "outputs": [
    {
     "data": {
      "text/plain": [
       "Text(0, 0.5, 'your label')"
      ]
     },
     "execution_count": 40,
     "metadata": {},
     "output_type": "execute_result"
    },
    {
     "data": {
      "image/png": "[encoded data removed]",
      "text/plain": [
       "<Figure size 432x288 with 1 Axes>"
      ]
     },
     "metadata": {
      "needs_background": "light"
     },
     "output_type": "display_data"
    }
   ],
   "source": [
    "plt.plot(x,y1)\n",
    "plt.title('your title')\n",
    "plt.xlabel('your label')\n",
    "plt.ylabel('your label')"
   ]
  },
  {
   "cell_type": "markdown",
   "metadata": {},
   "source": [
    "_1.10) Compare the roots you can find in the plot you produced in task 1.9) to the roots you calculated in task 1.3). Do they coincide?_"
   ]
  },
  {
   "cell_type": "markdown",
   "metadata": {},
   "source": [
    "_1.11) As you can see from the plot of $p_2$, there exists an extremum\n",
    "somewhere between $x=-0.5$ and $x=0$. How can you calculate that extremum more\n",
    "exactly using the commands you have learned in this lab? Calculate the exact value in the cell below._"
   ]
  },
  {
   "cell_type": "code",
   "execution_count": 45,
   "metadata": {},
   "outputs": [
    {
     "data": {
      "text/plain": [
       "array([-0.16666667])"
      ]
     },
     "execution_count": 45,
     "metadata": {},
     "output_type": "execute_result"
    }
   ],
   "source": [
    "# check for the roots in this interval also is fine\n",
    "p = Polynomial([-2,1,3])\n",
    "derivative = p.deriv(1)\n",
    "derivative.roots()"
   ]
  }
 ],
 "metadata": {
  "kernelspec": {
   "display_name": "Python 3",
   "language": "python",
   "name": "python3"
  },
  "language_info": {
   "codemirror_mode": {
    "name": "ipython",
    "version": 3
   },
   "file_extension": ".py",
   "mimetype": "text/x-python",
   "name": "python",
   "nbconvert_exporter": "python",
   "pygments_lexer": "ipython3",
   "version": "3.8.5"
  },
  "toc-autonumbering": false
 },
 "nbformat": 4,
 "nbformat_minor": 5
}
