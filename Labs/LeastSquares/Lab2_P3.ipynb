{
 "cells": [
  {
   "cell_type": "markdown",
   "metadata": {},
   "source": [
    "# Lab exercise 2: Regression, Least squares, QR "
   ]
  },
  {
   "cell_type": "markdown",
   "metadata": {},
   "source": [
    "## Part 3: Under the Hood"
   ]
  },
  {
   "cell_type": "markdown",
   "metadata": {},
   "source": [
    "_In Part 2 of the lab, we did the curve fitting using **Polynomial.fit**. But\n",
    "what is happening inside this function? What numerical methods are used under the\n",
    "hood? In this part of the lab, you will solve the same problem as in Part 2, but explicitly set up the problem and\n",
    "use the numerical methods that are built-in to **Polynomial.fit**._"
   ]
  },
  {
   "cell_type": "markdown",
   "metadata": {},
   "source": [
    "### Short background: "
   ]
  },
  {
   "cell_type": "markdown",
   "metadata": {},
   "source": [
    "Assume you have a dataset $x = \\{x_1, x_2, \\cdots , x_n\\}$ and $y = \\{y_1, y_2, \\cdots , y_n\\}$. For example, this could correspond to the years x and corresponding average annual temperatures y in your dataset from the previous part of the lab. Let's say that you are supposed to fit a straight line, a 1st degree polynomial, to the data. This means that we would like the data to (roughly) conform to $p(x) = a+bx$. We say that we use this polynomial as the _ansatz_, and the task is to find the coefficients $a$ and $b$ such that $p(x)$ is \"as close to the data\" as possible. \n",
    "\n",
    "If the data would fit perfectly, we would find an $a$ and $b$ such that:"
   ]
  },
  {
   "cell_type": "markdown",
   "metadata": {},
   "source": [
    "\\begin{align*}\n",
    "a + bx_1 &= y_1 \\\\\n",
    "a + bx_2 &= y_2 \\\\\n",
    "\\vdots &\\\\\n",
    "a + bx_n &= y_n \\\\\n",
    "\\end{align*}"
   ]
  },
  {
   "cell_type": "markdown",
   "metadata": {},
   "source": [
    "This sytem of equations can be written equivalently in matrix form:"
   ]
  },
  {
   "cell_type": "markdown",
   "metadata": {},
   "source": [
    "$$\\begin{pmatrix} 1&x_1  \\\\ 1&x_2 \\\\ \\vdots & \\vdots \\\\ 1& x_n \\end{pmatrix} \\begin{pmatrix} a \\\\ b \\end{pmatrix} = {} \\begin{pmatrix} y_1 \\\\ y_2 \\\\ \\vdots \\\\ y_n \\end{pmatrix}$$\n"
   ]
  },
  {
   "cell_type": "markdown",
   "metadata": {},
   "source": [
    "Hence, we get a linear equation system $Av = y$ to solve, and the coefficients in $v$ is the\n",
    "solution. The system is, however, overdetermined (more rows than columns ⇔ more equations\n",
    "than unknowns), so there is no exact solution. This is due to the fact that there is no straight line\n",
    "that can pass through each of the data points (in general).\n",
    "The solution to this is to solve the so-called normal equations (we will discuss this in the lectures in more detail): \n",
    "\n",
    "$$A^TAv = A^Ty$$ \n",
    "\n",
    "Here, $A^T$ stands for “$A$-transpose”. Solving the normal equations for $v$ will give us the polynomial closest to the data. This is also equivalent to\n",
    "finding the minimum \n",
    "\n",
    "$$\\min_{v} ‖Av-y‖_2$$\n",
    "\n",
    "This minimization problem is also called _the least squares problem_. Why this is the case and how the normal equations are derived will be explained in the lecture corresponding to this module."
   ]
  },
  {
   "cell_type": "markdown",
   "metadata": {},
   "source": [
    "### To do:"
   ]
  },
  {
   "cell_type": "markdown",
   "metadata": {},
   "source": [
    "Try out the procedure described above, for the temperature data in Uppsala during the period\n",
    "1960-2020, in the file **tempAverage1960_2020.txt**. Do this by following the steps below:\n",
    "\n",
    "_1) Import the required packages and load each column in the dataset into numpy arrays the same way you did in Part 2._ "
   ]
  },
  {
   "cell_type": "code",
   "execution_count": 1,
   "metadata": {},
   "outputs": [],
   "source": [
    "import numpy as np\n",
    "import matplotlib.pyplot as plt"
   ]
  },
  {
   "cell_type": "code",
   "execution_count": 2,
   "metadata": {},
   "outputs": [],
   "source": [
    "TempData = np.loadtxt('tempAverage1960_2020.txt', usecols=(0,1))\n",
    "years = TempData[:,0]\n",
    "temp = TempData[:,1]"
   ]
  },
  {
   "cell_type": "markdown",
   "metadata": {},
   "source": [
    "_2) Set up the matrix $A$. You can see the structure of $A$ above: the first column in $A$ will be just ones, and\n",
    "the second column in $A$ will contain the first column of the dataset (the year data). Also create the right-hand-side\n",
    "$y$ (which here is the second column in the dataset, the temperatures)._\n",
    "\n",
    "**Hint 1:** You can create a $(N\\times 2)$-matrix initialized with ones using the command `numpy.ones((N, 2))`. Here, N is the number of rows in the matrix, which is equal to the number of datapoints. You can find the number of datapoints using `len(x)`, where x is one of the columns you loaded in Question 1).\n",
    "\n",
    "**Hint 2:** When you have created a $(N\\times 2)$-matrix $A$ filled with ones, you can replace the second column in the matrix with the array, called for example _array_, you used to store the year-data in Question 1). You can do this with the command: $A[:,1] = array$, where $A[:,1]$ picks out the second column in $A$."
   ]
  },
  {
   "cell_type": "code",
   "execution_count": 3,
   "metadata": {},
   "outputs": [
    {
     "name": "stdout",
     "output_type": "stream",
     "text": [
      "[[1.000e+00 1.960e+03]\n",
      " [1.000e+00 1.961e+03]\n",
      " [1.000e+00 1.962e+03]\n",
      " [1.000e+00 1.963e+03]\n",
      " [1.000e+00 1.964e+03]\n",
      " [1.000e+00 1.965e+03]\n",
      " [1.000e+00 1.966e+03]\n",
      " [1.000e+00 1.967e+03]\n",
      " [1.000e+00 1.968e+03]\n",
      " [1.000e+00 1.969e+03]\n",
      " [1.000e+00 1.970e+03]\n",
      " [1.000e+00 1.971e+03]\n",
      " [1.000e+00 1.972e+03]\n",
      " [1.000e+00 1.973e+03]\n",
      " [1.000e+00 1.974e+03]\n",
      " [1.000e+00 1.975e+03]\n",
      " [1.000e+00 1.976e+03]\n",
      " [1.000e+00 1.977e+03]\n",
      " [1.000e+00 1.978e+03]\n",
      " [1.000e+00 1.979e+03]\n",
      " [1.000e+00 1.980e+03]\n",
      " [1.000e+00 1.981e+03]\n",
      " [1.000e+00 1.982e+03]\n",
      " [1.000e+00 1.983e+03]\n",
      " [1.000e+00 1.984e+03]\n",
      " [1.000e+00 1.985e+03]\n",
      " [1.000e+00 1.986e+03]\n",
      " [1.000e+00 1.987e+03]\n",
      " [1.000e+00 1.988e+03]\n",
      " [1.000e+00 1.989e+03]\n",
      " [1.000e+00 1.990e+03]\n",
      " [1.000e+00 1.991e+03]\n",
      " [1.000e+00 1.992e+03]\n",
      " [1.000e+00 1.993e+03]\n",
      " [1.000e+00 1.994e+03]\n",
      " [1.000e+00 1.995e+03]\n",
      " [1.000e+00 1.996e+03]\n",
      " [1.000e+00 1.997e+03]\n",
      " [1.000e+00 1.998e+03]\n",
      " [1.000e+00 1.999e+03]\n",
      " [1.000e+00 2.000e+03]\n",
      " [1.000e+00 2.001e+03]\n",
      " [1.000e+00 2.002e+03]\n",
      " [1.000e+00 2.003e+03]\n",
      " [1.000e+00 2.004e+03]\n",
      " [1.000e+00 2.005e+03]\n",
      " [1.000e+00 2.006e+03]\n",
      " [1.000e+00 2.007e+03]\n",
      " [1.000e+00 2.008e+03]\n",
      " [1.000e+00 2.009e+03]\n",
      " [1.000e+00 2.010e+03]\n",
      " [1.000e+00 2.011e+03]\n",
      " [1.000e+00 2.012e+03]\n",
      " [1.000e+00 2.013e+03]\n",
      " [1.000e+00 2.014e+03]\n",
      " [1.000e+00 2.015e+03]\n",
      " [1.000e+00 2.016e+03]\n",
      " [1.000e+00 2.017e+03]\n",
      " [1.000e+00 2.018e+03]\n",
      " [1.000e+00 2.019e+03]\n",
      " [1.000e+00 2.020e+03]]\n"
     ]
    }
   ],
   "source": [
    "n = len(years)\n",
    "A = np.ones((n,2))\n",
    "A[:,1] = years\n",
    "print(A)"
   ]
  },
  {
   "cell_type": "markdown",
   "metadata": {},
   "source": [
    "_3) Compute $A^TA$ and $A^Ty$ and store the results in new variables. What size will the matrix $A^TA$ be of? How many equations and unknowns will the equation system $A^TAv = A^Ty$ have? Try to figure it out without checking in Python, and then check if you were right by printing the shape of the matrices._\n",
    "\n",
    "**Hint 1:** You can compute the matrix transpose $A^T$ using the command `np.transpose(A)`.\n",
    "\n",
    "**Hint 2:** In Python, you can multiply two matrices $A$ and $B$ (of appropriate dimensions) using the commands `A@B` or `np.matmul(A, B)`. "
   ]
  },
  {
   "cell_type": "code",
   "execution_count": 4,
   "metadata": {},
   "outputs": [
    {
     "name": "stdout",
     "output_type": "stream",
     "text": [
      "(2, 2)\n",
      "(2,)\n"
     ]
    }
   ],
   "source": [
    "ATA = A.T@A\n",
    "ATy = A.T@temp\n",
    "print(ATA.shape)\n",
    "print(ATy.shape)"
   ]
  },
  {
   "cell_type": "markdown",
   "metadata": {},
   "source": [
    "_4) Next, we will solve the system of equations, the normal equations, in Python. To do this, we can use the function `np.linalg.solve()`. To solve a system of linear equations of the form $Ax = b$ using this function, we can call \n",
    "`x = np.linalg.solve(A, b)`. Use this function to solve the normal equations, and print the coefficients. Compare the coefficients to the result you got in Part 2._"
   ]
  },
  {
   "cell_type": "code",
   "execution_count": 5,
   "metadata": {},
   "outputs": [
    {
     "name": "stdout",
     "output_type": "stream",
     "text": [
      "[-7.51567244e+01  4.07317189e-02]\n"
     ]
    }
   ],
   "source": [
    "v = np.linalg.solve(ATA,ATy)\n",
    "print(v)"
   ]
  },
  {
   "cell_type": "markdown",
   "metadata": {},
   "source": [
    "_5a) Repeat the steps 2-4, but now fit a second order polynomial to the data. A second order\n",
    "polynomial has the structure:_ $$p(x) = a_0+ a_1x+ a_2x^2$$\n",
    "\n",
    "_Use this as the new ansatz. Figure out how to construct the matrix and form a new matrix which you can call $B$_.\n",
    "\n",
    "Hint: You can obtain the elementwise square of a vector x using the command `np.square(x)`.\n",
    "\n",
    "_5b) Once you have the matrix, form the normal equations and solve the equation system. Compare the coefficients with the result you got in Part 2._"
   ]
  },
  {
   "cell_type": "code",
   "execution_count": 6,
   "metadata": {},
   "outputs": [
    {
     "name": "stdout",
     "output_type": "stream",
     "text": [
      "[ 1.91625401e+03 -1.96084279e+00  5.02908169e-04]\n"
     ]
    }
   ],
   "source": [
    "B = np.ones((n,3))\n",
    "B[:,1] = years\n",
    "B[:,2] = years**2\n",
    "BTB = B.T@B\n",
    "BTy = B.T@temp\n",
    "v2 = np.linalg.solve(BTB,BTy)\n",
    "print(v2)"
   ]
  },
  {
   "cell_type": "markdown",
   "metadata": {},
   "source": [
    "One issue with the normal equations is the so-called condition number. A high matrix\n",
    "condition number leads to loss of accuracy when solving the equation system. If the\n",
    "equation system is $Ax = b$, the relation between the condition number and the relative\n",
    "error in $x$ and $b$ is: \n",
    "\n",
    "**(relative error in solution $x$) $\\leq$ cond($A$) (relative error in in-data $b$)**\n",
    "\n",
    "Hence, the condition number of the matrix, cond($A$), might magnify the error in in-data\n",
    "when solving the equation system. Remember that the smallest relative error in $b$ is $\\approx$\n",
    "$10^{-16}$ due to roundoff (but it can be much bigger if it is based on measurements)."
   ]
  },
  {
   "cell_type": "markdown",
   "metadata": {},
   "source": [
    "_6) Calculate cond($A^TA$) and cond($B^TB$), respectively. Print the results. If the relative error in $b$\n",
    "is $10^{-16}$, what error might we get in the solution here in the worst case?_\n",
    "\n",
    "Hint: You can calculate the condition number of a matrix A using the command `np.linalg.cond(A)`."
   ]
  },
  {
   "cell_type": "code",
   "execution_count": 7,
   "metadata": {},
   "outputs": [
    {
     "name": "stdout",
     "output_type": "stream",
     "text": [
      "cond(A^TA):  50596307121.39148\n",
      "cond(B^TB):  4.297624312018623e+21\n"
     ]
    }
   ],
   "source": [
    "print('cond(A^TA): ', np.linalg.cond(ATA))\n",
    "print('cond(B^TB): ', np.linalg.cond(BTB))"
   ]
  },
  {
   "cell_type": "markdown",
   "metadata": {},
   "source": [
    "The bad condition number in the normal equations is a serious problem, and usually\n",
    "different modifications are introduced to improve the situation. More on this and the\n",
    "condition number on the lecture!"
   ]
  },
  {
   "cell_type": "markdown",
   "metadata": {},
   "source": [
    "**Shifting and scaling**"
   ]
  },
  {
   "cell_type": "markdown",
   "metadata": {},
   "source": [
    "_7a) Do a first-degree polynomial fit, but now use the anzats:_ $$p(x) = a + b(x-\\bar{x})$$\n",
    "\n",
    "_Here, $\\bar{x}$ is the mean of the x-values. Form the matrix $C$ and $C^TC$._ \n",
    "\n",
    "_7b) Compute cond($C^TC$) and\n",
    "compare with cond($A^TA$). What happened?_\n",
    "\n",
    "Apply the same fitting using the ansatz \n",
    "$$p(x) = a+b\\left(\\frac{x-\\bar{x}}{\\sigma}\\right) $$\n",
    "where $\\sigma$ is the standard deviation in x, and answer the same quesions. "
   ]
  },
  {
   "cell_type": "code",
   "execution_count": 8,
   "metadata": {},
   "outputs": [
    {
     "name": "stdout",
     "output_type": "stream",
     "text": [
      "[5.89939628 0.04073172]\n",
      "cond(C^TC):  310.0\n"
     ]
    }
   ],
   "source": [
    "C = np.ones((n,2))\n",
    "x_mean = np.mean(years)\n",
    "C[:,1] = years-x_mean\n",
    "CTC = C.T@C\n",
    "CTy = C.T@temp\n",
    "v3 = np.linalg.solve(CTC,CTy)\n",
    "print(v3)\n",
    "print('cond(C^TC): ', np.linalg.cond(CTC))"
   ]
  },
  {
   "cell_type": "markdown",
   "metadata": {},
   "source": [
    "This is called scaling and is used in `numpy.Polynomial.fit` to improve the condition\n",
    "number."
   ]
  }
 ],
 "metadata": {
  "kernelspec": {
   "display_name": "Python 3",
   "language": "python",
   "name": "python3"
  },
  "language_info": {
   "codemirror_mode": {
    "name": "ipython",
    "version": 3
   },
   "file_extension": ".py",
   "mimetype": "text/x-python",
   "name": "python",
   "nbconvert_exporter": "python",
   "pygments_lexer": "ipython3",
   "version": "3.8.5"
  },
  "toc-autonumbering": false
 },
 "nbformat": 4,
 "nbformat_minor": 5
}
