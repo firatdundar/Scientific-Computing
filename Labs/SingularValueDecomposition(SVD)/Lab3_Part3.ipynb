{
 "cells": [
  {
   "cell_type": "markdown",
   "id": "d4c428d4",
   "metadata": {},
   "source": [
    "<H1> Lab exercise 3: Eigenvalues and SVD</h1>"
   ]
  },
  {
   "cell_type": "markdown",
   "id": "043cb26f",
   "metadata": {},
   "source": [
    "## Part 3: Computation of eigenvalues"
   ]
  },
  {
   "cell_type": "markdown",
   "id": "06a607d2",
   "metadata": {},
   "source": [
    "_In the previous part of the lab, we learned how to calculate the eigenvalues and eigenvectors of a matrix in Python. But what methods are used under the hood? In this part we look at two numerical methods used for eigenvalue computations. From mathematics, you know that eigenvalues can be computed via the characteristic equation  𝑑𝑒𝑡(𝐴−𝜆𝐼)=0 . This is not an option in software though, since the coefficients of the characteristic equation can't be computed from determinant evaluations in a numerically stable way. It leads to large perturbations in the roots. In this lab, we will have a look at some computational methods to calculate the eigenvalues of a matrix._ "
   ]
  },
  {
   "cell_type": "markdown",
   "id": "09f7d22a",
   "metadata": {
    "tags": []
   },
   "source": [
    "<h3>The Power method</h3>"
   ]
  },
  {
   "cell_type": "markdown",
   "id": "126be79a",
   "metadata": {},
   "source": [
    "The simplest numerical method for eigenvalue computations is the Power Method. We outline the algorithm below:<br>\n",
    "<br>\n",
    "Given a matrix $A$,\n",
    "- Start with an initial eigenvector $v_{(0)}$, which is a guess, input by the user\n",
    "- Calculate $v_{(1)}=Av_{(0)}, v_{(2)} = Av_{(1)}, v_{(3)} = Av_{(2)}, \\ldots$, and so on. The sequence of $v_i$'s are normalized throughout the process\n",
    "\n",
    "Using this calculation process, it can be shown that $v_{(i)}$ approaches one eigenvector of the matrix $A$. We terminate the process when we have reached a vector $v_{(i)}$ that is close enough to the true eigenvector (when the difference between two consecutive $v_{(i)}$ is smaller than a given tolerance). When the eigenvector is found, the eigenvalue can be computed with the formula $\\lambda=\\frac{v^TAv}{v^Tv}$ (the denominator disappears when $v$ is normalized)."
   ]
  },
  {
   "cell_type": "markdown",
   "id": "87917f01",
   "metadata": {},
   "source": [
    "You will now implement the Power Method yourself following the instructions below:"
   ]
  },
  {
   "cell_type": "markdown",
   "id": "63fbed05",
   "metadata": {},
   "source": [
    "\n",
    "_1.1) First, define the matrix_ \n",
    "$A = \\left( \\begin{array}{ccc} \n",
    "1 & 2 & 0 \\\\\n",
    "1 & 1 & 2 \\\\\n",
    "1 & 3 & 1\n",
    "\\end{array} \\right) $\n",
    "_and check eigenvalues/eigenvectors using numpy._"
   ]
  },
  {
   "cell_type": "code",
   "execution_count": 2,
   "id": "b87b24ab",
   "metadata": {},
   "outputs": [
    {
     "name": "stdout",
     "output_type": "stream",
     "text": [
      "Eigenvalues of matrix A:  [ 4.05137424  0.48269595 -1.5340702 ]\n",
      "Eigenvectors of matrix A:  [[-0.38725131 -0.89283019  0.51116045]\n",
      " [-0.59082433  0.23093234 -0.64765823]\n",
      " [-0.70778742  0.38668398  0.56502549]]\n"
     ]
    }
   ],
   "source": [
    "import numpy as np\n",
    "A = np.array([[1, 2, 0],[1, 1, 2], [1, 3, 1]])\n",
    "S, V = np.linalg.eig(A)\n",
    "\n",
    "print(\"Eigenvalues of matrix A: \", S)\n",
    "print(\"Eigenvectors of matrix A: \", V)"
   ]
  },
  {
   "cell_type": "markdown",
   "id": "02065018",
   "metadata": {},
   "source": [
    "_1.2) Now implement the Power Method (with a for-loop so you can choose number of iterations). You can find a pseudocode for the implementation below. Make sure you understand how the pseudocode corresponds to the algorithm presented above, and then use it to write an actual Python implementation._\n",
    "```\n",
    "  v0 = ...  # initial eigenvector (initial guess), you can use v0=(1, 1,...,1)\n",
    "  Normalize v0\n",
    "  N = ...   # Number of iterations\n",
    "  for k in range(N):\n",
    "     v = Av0\n",
    "     v = v/norm(v)  # Normalize v\n",
    "     e = v.T(Av)    # Compute eigenvalue\n",
    "     v0 = v\n",
    "``` \n",
    "_1.3) When your code works, run it for different number of iterations ${\\tt N}$. You can for example start with 5 iterations and then increase until you have for example 6 correct decimal places (compared with the true eigenvalues calculated above)._"
   ]
  },
  {
   "cell_type": "code",
   "execution_count": 1,
   "id": "2b723024",
   "metadata": {},
   "outputs": [
    {
     "name": "stdout",
     "output_type": "stream",
     "text": [
      "Estimated Eigenvalue: 4.050768136828551\n",
      "Estimated Eigenvector: [0.38747191 0.59043339 0.70799289]\n"
     ]
    }
   ],
   "source": [
    "import numpy as np\n",
    "\n",
    "def power_method(A, v0, N):\n",
    "    # Normalize the initial guess vector\n",
    "    v0 = v0 / np.linalg.norm(v0)\n",
    "\n",
    "    for k in range(N):\n",
    "        # Calculate Av\n",
    "        v = np.dot(A, v0)\n",
    "\n",
    "        # Normalize v\n",
    "        v = v / np.linalg.norm(v)\n",
    "\n",
    "        # Compute the eigenvalue\n",
    "        eigenvalue = np.dot(np.dot(v0, A),v)\n",
    "\n",
    "        # Update the initial guess vector\n",
    "        v0 = v\n",
    "\n",
    "    return eigenvalue, v\n",
    "\n",
    "# Define your matrix A and initial guess vector v0\n",
    "A = np.array([[1, 2, 0],[1, 1, 2], [1, 3, 1]])\n",
    "v0 = np.array([1, 1, 1])\n",
    "\n",
    "# Number of iterations (you can adjust this value)\n",
    "N = 5\n",
    "\n",
    "# Run the Power Method\n",
    "eigenvalue, eigenvector = power_method(A, v0, N)\n",
    "\n",
    "print(\"Estimated Eigenvalue:\", eigenvalue)\n",
    "print(\"Estimated Eigenvector:\", eigenvector) #normalized"
   ]
  },
  {
   "cell_type": "markdown",
   "id": "7de92c26",
   "metadata": {},
   "source": [
    "From the results, answer the questions\n",
    "- Which eigenvalue (and corresponding eigenvector) does the Power Method find? The Power Method is used to find a dominant eigenvalue (one with the largest absolute value).\n",
    "- Is it exactly the same eigenvector compared with `numpy.linalg.eig`? This one is normalized.\n",
    "\n",
    "<br>\n",
    "The Power method is an example of an <i>iterative method</i>, meaning that we get a sequence of solutions $\\{\\lambda_0, \\lambda_1, \\ldots \\}$ (one solution each iteration), and that the sequence approaches (converges to) the true solution.\n",
    "<hr>"
   ]
  },
  {
   "cell_type": "markdown",
   "id": "f05d512c",
   "metadata": {},
   "source": [
    "<h3>The QR-iteration method</h3>\n"
   ]
  },
  {
   "cell_type": "markdown",
   "id": "87c382c7",
   "metadata": {},
   "source": [
    "An obvious problem with the Power Method is that we can only find one eigenvalue and one eigenvector at a time. The most common algorithm for computing eigenvalues and eigenvectors is the <i>QR-method</i> outlined below:\n",
    "- Start with finding the QR-decomposition: $A=QR$\n",
    "- Flip the order around and calculate a new matrix: $A_{(1)}= RQ$\n",
    "- Find the QR-decomposition of the new matrix: $A_{(1)}=Q_{(1)}R_{(1)}$\n",
    "- Flip the order again: $A_{(2)}=R_{(1)}Q_{(1)}$\n",
    "- And so forth until result is good enough\n",
    "\n",
    "Almost magically, the eigenvalues can be found on the main diagonal in the matrix $A_{(k)}$ obtained at the $k$th iteration. As with the Power Method, this is also an iterative method which converges to the true solution after a sufficient number of iterations."
   ]
  },
  {
   "cell_type": "markdown",
   "id": "e2568dbd",
   "metadata": {},
   "source": [
    "_2.1) Implement the QR-method using a for-loop (based on the outline above). Then, run the algorithm for different number of iterations $N$. Compare the diagonal entries of the resulting matrix $A_{(N)}$ with the eigenvalues you computed in Task 1.1). Does the QR-method find all eigenvalues of $A$?_ \n",
    "\n",
    "Note that the matrix approaches an upper triangular matrix (the elements under the main diagonal gets smaller as you increase the number of iterations). Remember that the eigenvalues of a triangular matrix can be found on the main diagonal."
   ]
  },
  {
   "cell_type": "code",
   "execution_count": 2,
   "id": "e73a1d3f",
   "metadata": {},
   "outputs": [
    {
     "name": "stdout",
     "output_type": "stream",
     "text": [
      "Estimated Eigenvalues: [ 4.05137424 -1.5340702   0.48269595]\n",
      "[[ 4.05137424  1.23090532 -0.80888456]\n",
      " [ 0.         -1.5340702   0.91136045]\n",
      " [ 0.          0.          0.48269595]]\n"
     ]
    }
   ],
   "source": [
    "def qr_method(A, N):\n",
    "    for k in range(N):\n",
    "        Q, R = np.linalg.qr(A)\n",
    "        A = np.dot(R, Q)\n",
    "    \n",
    "    eigenvalues = np.diag(A)\n",
    "    return eigenvalues, A\n",
    "\n",
    "# Define your matrix A\n",
    "A = np.array([[1, 2, 0],[1, 1, 2], [1, 3, 1]])\n",
    "\n",
    "# Number of iterations (you can adjust this value)\n",
    "N = 1000\n",
    "\n",
    "# Run the QR-method\n",
    "eigenvalues, AN = qr_method(A, N)\n",
    "\n",
    "print(\"Estimated Eigenvalues:\", eigenvalues)\n",
    "print(AN)"
   ]
  },
  {
   "cell_type": "markdown",
   "id": "70629851",
   "metadata": {},
   "source": [
    "_2.2) Below is the the QR-iteration defined as a function (starting from the input matrix A, and running until convergence). Call the function with_\n",
    "- The same matrix $A$ as before\n",
    "- A symmetric matrix, for example $B=A^TA$. Compare the result with the Spectral Theorem, i.e. the resulting matrix should be roughly \n",
    "$$\n",
    "\\Lambda= \\left( \\begin{array}{ccc} \n",
    "\\lambda_1 &  & 0 \\\\\n",
    "          & \\ddots & \\\\\n",
    "        0  &        & \\lambda_n\n",
    "          \\end{array} \\right)\n",
    "          $$\n",
    " \n",
    "**Caution:** The iterative process involves estimating the error at each iteration by comparing the diagonal elements of $A_k$ (approximated eigenvalues) with those of $A_{k-1}$. The iteration terminates if the maximum error falls below a specified tolerance (`tol`). It is crucial to note that this criterion is applicable only when all eigenvalues of $A$ are real (upper triangular Schur form), such as in the case of symmetric matrices. For complex eigenvalues this criterion may not provide reliable convergence assessment."
   ]
  },
  {
   "cell_type": "code",
   "execution_count": 3,
   "id": "376c71ae",
   "metadata": {},
   "outputs": [],
   "source": [
    "def QRmethod(A0, tol=1.0e-8):\n",
    "    # Eigenvalue computation, QR-method\n",
    "    # Default error tolerance in max-norm is 1.0e-8 \n",
    "\n",
    "    if tol<1.0e-15:   # Tol cant be smaller than machine epilon\n",
    "        tol = 1.0e-14\n",
    "    \n",
    "    err = 1.0\n",
    "    while err > tol:\n",
    "        Q1, R1 = np.linalg.qr(A0)\n",
    "        A1 = R1@Q1\n",
    "        A1diag = np.diag(A1)   # Get A1s main diagonal \n",
    "        A0diag = np.diag(A0)   # Get A0s main diagonal\n",
    "        err = (np.linalg.norm(A1diag-A0diag,np.inf))/np.linalg.norm(A1diag,np.inf) # rel. error in max-norm\n",
    "        A0 = A1\n",
    "    \n",
    "    return A1"
   ]
  },
  {
   "cell_type": "code",
   "execution_count": 4,
   "id": "130d1033",
   "metadata": {},
   "outputs": [
    {
     "data": {
      "text/plain": [
       "array([[ 1.90295050e+01,  1.29365885e-07, -1.44369783e-15],\n",
       "       [ 1.29365885e-07,  2.80168607e+00,  9.71470822e-11],\n",
       "       [-1.04877137e-17,  9.71475088e-11,  1.68808981e-01]])"
      ]
     },
     "execution_count": 4,
     "metadata": {},
     "output_type": "execute_result"
    }
   ],
   "source": [
    "A = np.array([[1, 2, 0],[1, 1, 2], [1, 3, 1]])\n",
    "ATA = np.transpose(A)@A\n",
    "D = QRmethod(ATA, 1.0e-14)\n",
    "D"
   ]
  },
  {
   "cell_type": "markdown",
   "id": "db394358",
   "metadata": {},
   "source": [
    "**Some notes on the QR-method we have implemented today:**\n",
    "\n",
    "- The QR-iteration method above only computes the eigenvalues, but it is possible to also the get the eigenvectors (we will not talk about this today, however). <br>\n",
    "- The QR-iteration method is very expensive due the the QR-decomposition in each iteration. In the standard method the matrix can be transformed to a **Hessenberg** form before the loop, and that reduces the cost significantly. Also the convergence rate can be improved (leading to fewer iteration). This makes the practical QR-method efficient.<br>\n",
    "\n",
    "<hr>"
   ]
  }
 ],
 "metadata": {
  "kernelspec": {
   "display_name": "Python 3 (ipykernel)",
   "language": "python",
   "name": "python3"
  },
  "language_info": {
   "codemirror_mode": {
    "name": "ipython",
    "version": 3
   },
   "file_extension": ".py",
   "mimetype": "text/x-python",
   "name": "python",
   "nbconvert_exporter": "python",
   "pygments_lexer": "ipython3",
   "version": "3.11.5"
  },
  "toc-autonumbering": false
 },
 "nbformat": 4,
 "nbformat_minor": 5
}
